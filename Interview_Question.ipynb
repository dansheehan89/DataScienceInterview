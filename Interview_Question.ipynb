{
 "cells": [
  {
   "cell_type": "code",
   "execution_count": 7,
   "metadata": {},
   "outputs": [],
   "source": [
    "def unknown_function(a: str, b: str) -> bool:\n",
    "   \n",
    "    # Length check\n",
    "    if len(a) != len(b)\n",
    "        return False\n",
    "    \n",
    "    # Dictionaries for storing results\n",
    "    counts_a, counts_b = {}, {}\n",
    "    \n",
    "    # Letter count for string a\n",
    "    for letter in a:\n",
    "        if letter not in counts_a:\n",
    "            counts_a[letter] = 1\n",
    "        else:\n",
    "            counts_a[letter] += 1\n",
    "            \n",
    "    # Letter count for string b\n",
    "    for letter in b:\n",
    "        if letter not in counts_b:\n",
    "            counts_b[letter] = 1\n",
    "        else:\n",
    "            counts_b[letter] += 1\n",
    "            \n",
    "    # Compare\n",
    "    return True if counts_a == counts_b else False"
   ]
  },
  {
   "cell_type": "code",
   "execution_count": 22,
   "metadata": {},
   "outputs": [],
   "source": [
    "#examples to test function\n",
    "Test1 = ('melon','lemon')\n",
    "Test2 = ['silent','listed']\n",
    "Tests = {'Test3':{'Word1':'engine',\n",
    "                 'Word2':'genie'},\n",
    "         'Test4':{'Word1':'piston',\n",
    "                  'Word2':'points'},\n",
    "         'Test5':{'Word1':'Dan',\n",
    "                  'Word2':'and'},\n",
    "         'Test6':{'Word1':1234,\n",
    "                  'Word2':4321}\n",
    "        }\n"
   ]
  },
  {
   "cell_type": "code",
   "execution_count": null,
   "metadata": {},
   "outputs": [],
   "source": []
  },
  {
   "cell_type": "code",
   "execution_count": null,
   "metadata": {},
   "outputs": [],
   "source": []
  },
  {
   "cell_type": "code",
   "execution_count": null,
   "metadata": {},
   "outputs": [],
   "source": []
  }
 ],
 "metadata": {
  "kernelspec": {
   "display_name": "Python 3",
   "language": "python",
   "name": "python3"
  },
  "language_info": {
   "codemirror_mode": {
    "name": "ipython",
    "version": 3
   },
   "file_extension": ".py",
   "mimetype": "text/x-python",
   "name": "python",
   "nbconvert_exporter": "python",
   "pygments_lexer": "ipython3",
   "version": "3.8.3"
  }
 },
 "nbformat": 4,
 "nbformat_minor": 4
}
