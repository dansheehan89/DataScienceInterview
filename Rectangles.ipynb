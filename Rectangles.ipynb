{
 "cells": [
  {
   "cell_type": "code",
   "execution_count": 2,
   "metadata": {},
   "outputs": [],
   "source": [
    "import matplotlib.pyplot as plt\n",
    "import numpy"
   ]
  },
  {
   "cell_type": "code",
   "execution_count": 3,
   "metadata": {},
   "outputs": [],
   "source": [
    "Rect_1=[[1.0,1.0],\n",
    "        [5.0,3.0]]\n",
    "\n",
    "Rect_2=[[4.0, 2.5],\n",
    "        [7.0,6.0]]\n"
   ]
  },
  {
   "cell_type": "code",
   "execution_count": 4,
   "metadata": {},
   "outputs": [
    {
     "name": "stdout",
     "output_type": "stream",
     "text": [
      "Not overlapping\n"
     ]
    }
   ],
   "source": [
    "    not_overlapping=0\n",
    "    \n",
    "    if (Rect_1[0][0] == Rect_1[1][0] or Rect_1[0][1] == Rect_1[1][1] or Rect_2[0][0] == Rect_2[1][0] or Rect_2[0][1] == Rect_2[1][1]):\n",
    "        # the line cannot have positive overlap\n",
    "        print('Not a rectangle')\n",
    "       \n",
    "    # If one rectangle is on left side of other\n",
    "    if(Rect_1[0][0] >= Rect_2[1][0] or Rect_2[0][0] >= Rect_1[0][0]):\n",
    "        not_overlapping=1\n",
    " \n",
    "    # If one rectangle is above other\n",
    "    if(Rect_1[1][1] >= Rect_2[0][1] or Rect_2[1][1] >= Rect_1[0][1]):\n",
    "        not_overlapping=1\n",
    "        \n",
    "    if not_overlapping==1:\n",
    "        print('Not overlapping')\n",
    "    else:\n",
    "        print('Overlapping')"
   ]
  },
  {
   "cell_type": "code",
   "execution_count": null,
   "metadata": {},
   "outputs": [],
   "source": []
  }
 ],
 "metadata": {
  "kernelspec": {
   "display_name": "Python 3",
   "language": "python",
   "name": "python3"
  },
  "language_info": {
   "codemirror_mode": {
    "name": "ipython",
    "version": 3
   },
   "file_extension": ".py",
   "mimetype": "text/x-python",
   "name": "python",
   "nbconvert_exporter": "python",
   "pygments_lexer": "ipython3",
   "version": "3.8.3"
  }
 },
 "nbformat": 4,
 "nbformat_minor": 4
}
