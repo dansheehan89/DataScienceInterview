{
 "cells": [
  {
   "cell_type": "code",
   "execution_count": 62,
   "metadata": {},
   "outputs": [],
   "source": [
    "import matplotlib.pyplot as plt\n",
    "import pandas\n",
    "import plotly\n",
    "import numpy"
   ]
  },
  {
   "cell_type": "code",
   "execution_count": 65,
   "metadata": {},
   "outputs": [
    {
     "data": {
      "image/png": "[encoded data removed]",
      "text/plain": [
       "<Figure size 432x288 with 1 Axes>"
      ]
     },
     "metadata": {
      "needs_background": "light"
     },
     "output_type": "display_data"
    }
   ],
   "source": [
    "Rect_1=[[1.0,1.0],\n",
    "        [5.0,3.0]]\n",
    "\n",
    "Rect_2=[[4.0,2.5],\n",
    "        [7.0,6.0]]\n",
    "\n",
    "plt.axes()\n",
    "Rectangle_1=plt.Rectangle(Rect_1[0], Rect_1[1][0]-Rect_1[0][0], Rect_1[1][1]-Rect_1[0][1],fc=\"none\",ec=\"red\")\n",
    "Rectangle_2=plt.Rectangle(Rect_2[0], Rect_2[1][0]-Rect_2[0][0], Rect_2[1][1]-Rect_2[0][1],fc=\"none\",ec=\"green\")\n",
    "plt.gca().add_patch(Rectangle_1)\n",
    "plt.gca().add_patch(Rectangle_2)\n",
    "plt.axis('scaled')\n",
    "plt.show()"
   ]
  },
  {
   "cell_type": "code",
   "execution_count": null,
   "metadata": {},
   "outputs": [],
   "source": []
  },
  {
   "cell_type": "code",
   "execution_count": null,
   "metadata": {},
   "outputs": [],
   "source": []
  }
 ],
 "metadata": {
  "kernelspec": {
   "display_name": "Python 3",
   "language": "python",
   "name": "python3"
  },
  "language_info": {
   "codemirror_mode": {
    "name": "ipython",
    "version": 3
   },
   "file_extension": ".py",
   "mimetype": "text/x-python",
   "name": "python",
   "nbconvert_exporter": "python",
   "pygments_lexer": "ipython3",
   "version": "3.8.3"
  }
 },
 "nbformat": 4,
 "nbformat_minor": 4
}
